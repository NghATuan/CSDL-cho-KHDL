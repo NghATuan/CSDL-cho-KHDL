{
 "cells": [
  {
   "cell_type": "code",
   "execution_count": 1,
   "id": "0e8b3f5d",
   "metadata": {},
   "outputs": [],
   "source": [
    "import sqlite3"
   ]
  },
  {
   "cell_type": "code",
   "execution_count": 2,
   "id": "9921b07a",
   "metadata": {},
   "outputs": [],
   "source": [
    "conn = sqlite3.connect('baitap.db')\n",
    "cursor = conn.cursor()"
   ]
  },
  {
   "cell_type": "markdown",
   "id": "d00afa37",
   "metadata": {},
   "source": [
    "## Câu 1"
   ]
  },
  {
   "cell_type": "code",
   "execution_count": 3,
   "id": "fc38e76e",
   "metadata": {},
   "outputs": [
    {
     "data": {
      "text/plain": [
       "<sqlite3.Cursor at 0x18fb3b12040>"
      ]
     },
     "execution_count": 3,
     "metadata": {},
     "output_type": "execute_result"
    }
   ],
   "source": [
    "# Tạo bảng ví dụ câu 1\n",
    "cursor.execute('''CREATE TABLE IF NOT EXISTS Cau1(\n",
    "               ID INT,\n",
    "               A FLOAT,\n",
    "               B FLOAT\n",
    "               );\n",
    "\n",
    "''')"
   ]
  },
  {
   "cell_type": "code",
   "execution_count": 4,
   "id": "c0bf3cd0",
   "metadata": {},
   "outputs": [],
   "source": [
    "# Thêm dữ liệu ví dụ\n",
    "data = [\n",
    "    (1, 20, 35.5),\n",
    "    (2, 25, 33.3),\n",
    "    (3, 30, 40.1),\n",
    "    (4, 45.2, 50),\n",
    "    (5, 55.5, 64.9)\n",
    "]\n",
    "\n",
    "cursor.executemany(\"INSERT INTO Cau1 (ID, A, B) VALUES (?, ?, ?)\", data)\n",
    "conn.commit()"
   ]
  },
  {
   "cell_type": "code",
   "execution_count": 5,
   "id": "fd63ff18",
   "metadata": {},
   "outputs": [
    {
     "name": "stdout",
     "output_type": "stream",
     "text": [
      "(1, 20.0, 35.5)\n",
      "(2, 25.0, 33.3)\n",
      "(3, 30.0, 40.1)\n",
      "(4, 45.2, 50.0)\n",
      "(5, 55.5, 64.9)\n"
     ]
    }
   ],
   "source": [
    "for row in cursor.execute(\"SELECT * FROM Cau1\"):\n",
    "    print(row)"
   ]
  },
  {
   "cell_type": "code",
   "execution_count": 6,
   "id": "20f29ffb",
   "metadata": {},
   "outputs": [
    {
     "name": "stdout",
     "output_type": "stream",
     "text": [
      "Hệ số tương quan giữa A và B: R(AB)=0.9696412793790654\n"
     ]
    }
   ],
   "source": [
    "cursor.execute('''\n",
    "    SELECT\n",
    "        COUNT(*) as n,\n",
    "        SUM(A) as sum_A,\n",
    "        SUM(B) as sum_B,\n",
    "        SUM(A * B) as sum_AB,\n",
    "        SUM(A * A) as sum_A2,\n",
    "        SUM(B * B) as sum_B2\n",
    "    FROM Cau1\n",
    "''')\n",
    "\n",
    "n, sum_A, sum_B, sum_AB, sum_A2, sum_B2 = cursor.fetchone()\n",
    "\n",
    "numerator = n * sum_AB - sum_A * sum_B\n",
    "denominator = ((n * sum_A2 - sum_A ** 2) ** 0.5) * ((n * sum_B2 - sum_B ** 2) ** 0.5)\n",
    "\n",
    "r = numerator / denominator if denominator != 0 else None\n",
    "print(f\"Hệ số tương quan giữa A và B: R(AB)={r}\")"
   ]
  },
  {
   "cell_type": "markdown",
   "id": "c7c2d611",
   "metadata": {},
   "source": [
    "> Hệ số tương quan cao, tuyến tính dương"
   ]
  },
  {
   "cell_type": "markdown",
   "id": "cff401bf",
   "metadata": {},
   "source": [
    "## Câu 2"
   ]
  },
  {
   "cell_type": "code",
   "execution_count": 7,
   "id": "85200832",
   "metadata": {},
   "outputs": [],
   "source": [
    "# Tạo bảng câu 2(bảng gốc)\n",
    "cursor.execute('''CREATE TABLE IF NOT EXISTS Banggoc (\n",
    "                Day Text,\n",
    "                A FLOAT,\n",
    "                B FLOAT,\n",
    "                C FLOAT\n",
    "                );\n",
    "\n",
    "''')\n",
    "\n",
    "# Thêm dữ liệu gốc\n",
    "data = [\n",
    "    ('Day 1', 8, 9, 7),\n",
    "    ('Day 2', 7.5, 8.5, 7),\n",
    "    ('Day 3', 6, 7, 8),\n",
    "    ('Day 4', 7, 6, 5)\n",
    "]\n",
    "\n",
    "cursor.executemany(\"INSERT INTO Banggoc (Day, A, B, C) VALUES (?, ?, ?, ?)\", data)\n",
    "conn.commit()"
   ]
  },
  {
   "cell_type": "code",
   "execution_count": 8,
   "id": "1c50b1a3",
   "metadata": {},
   "outputs": [
    {
     "name": "stdout",
     "output_type": "stream",
     "text": [
      "('Day 1', 8.0, 9.0, 7.0)\n",
      "('Day 2', 7.5, 8.5, 7.0)\n",
      "('Day 3', 6.0, 7.0, 8.0)\n",
      "('Day 4', 7.0, 6.0, 5.0)\n"
     ]
    }
   ],
   "source": [
    "for row in cursor.execute(\"SELECT * FROM Banggoc\"):\n",
    "    print(row)"
   ]
  },
  {
   "cell_type": "code",
   "execution_count": 9,
   "id": "dea3bee6",
   "metadata": {},
   "outputs": [],
   "source": [
    "# Tạo bảng câu 2(bảng dạng quan hệ)\n",
    "cursor.execute('''CREATE TABLE IF NOT EXISTS CarScores (\n",
    "                Day INT,\n",
    "                Car TEXT,\n",
    "                Score FLOAT\n",
    "                );\n",
    "\n",
    "''')\n",
    "\n",
    "# Thêm dữ liệu thay đổi\n",
    "data = [\n",
    "    (1, 'A', 8),    \n",
    "    (1, 'B', 9),    \n",
    "    (1, 'C', 7),\n",
    "    (2, 'A', 7.5),  \n",
    "    (2, 'B', 8.5),  \n",
    "    (2, 'C', 7),\n",
    "    (3, 'A', 6),    \n",
    "    (3, 'B', 7),    \n",
    "    (3, 'C', 8),\n",
    "    (4, 'A', 7),    \n",
    "    (4, 'B', 6),    \n",
    "    (4, 'C', 5)\n",
    "]\n",
    "\n",
    "# Chèn dữ liệu vào bảng\n",
    "cursor.executemany(\"INSERT INTO CarScores (Day, Car, Score) VALUES (?, ?, ?)\", data)\n",
    "conn.commit()"
   ]
  },
  {
   "cell_type": "code",
   "execution_count": 10,
   "id": "d4ea5425",
   "metadata": {},
   "outputs": [
    {
     "name": "stdout",
     "output_type": "stream",
     "text": [
      "(1, 'A', 8.0)\n",
      "(1, 'B', 9.0)\n",
      "(1, 'C', 7.0)\n",
      "(2, 'A', 7.5)\n",
      "(2, 'B', 8.5)\n",
      "(2, 'C', 7.0)\n",
      "(3, 'A', 6.0)\n",
      "(3, 'B', 7.0)\n",
      "(3, 'C', 8.0)\n",
      "(4, 'A', 7.0)\n",
      "(4, 'B', 6.0)\n",
      "(4, 'C', 5.0)\n"
     ]
    }
   ],
   "source": [
    "for row in cursor.execute(\"SELECT * FROM CarScores\"):\n",
    "    print(row)"
   ]
  },
  {
   "cell_type": "code",
   "execution_count": 11,
   "id": "6de2d8ec",
   "metadata": {},
   "outputs": [
    {
     "name": "stdout",
     "output_type": "stream",
     "text": [
      "Mẫu xe A có 1 lần được đánh giá 'Thap'\n",
      "Mẫu xe A có 3 lần được đánh giá 'TrungBinh'\n",
      "Mẫu xe B có 2 lần được đánh giá 'Cao'\n",
      "Mẫu xe B có 1 lần được đánh giá 'Thap'\n",
      "Mẫu xe B có 1 lần được đánh giá 'TrungBinh'\n",
      "Mẫu xe C có 1 lần được đánh giá 'Thap'\n",
      "Mẫu xe C có 3 lần được đánh giá 'TrungBinh'\n"
     ]
    }
   ],
   "source": [
    "cursor.execute('''\n",
    "    SELECT \n",
    "        Car AS TenXe,\n",
    "        CASE \n",
    "            WHEN Score > 8 THEN 'Cao'\n",
    "            WHEN Score > 6 THEN 'TrungBinh'\n",
    "            ELSE 'Thap'\n",
    "        END AS MucDiem,\n",
    "        COUNT(*) AS TongSo\n",
    "    FROM CarScores\n",
    "    GROUP BY TenXe, MucDiem\n",
    "    ORDER BY TenXe, MucDiem;\n",
    "''')\n",
    "\n",
    "for row in cursor.fetchall():\n",
    "    print(f\"Mẫu xe {row[0]} có {row[2]} lần được đánh giá '{row[1]}'\")"
   ]
  },
  {
   "cell_type": "code",
   "execution_count": 12,
   "id": "621c64d3",
   "metadata": {},
   "outputs": [
    {
     "data": {
      "text/html": [
       "<div>\n",
       "<style scoped>\n",
       "    .dataframe tbody tr th:only-of-type {\n",
       "        vertical-align: middle;\n",
       "    }\n",
       "\n",
       "    .dataframe tbody tr th {\n",
       "        vertical-align: top;\n",
       "    }\n",
       "\n",
       "    .dataframe thead th {\n",
       "        text-align: right;\n",
       "    }\n",
       "</style>\n",
       "<table border=\"1\" class=\"dataframe\">\n",
       "  <thead>\n",
       "    <tr style=\"text-align: right;\">\n",
       "      <th></th>\n",
       "      <th>Day</th>\n",
       "      <th>Car</th>\n",
       "      <th>Score</th>\n",
       "    </tr>\n",
       "  </thead>\n",
       "  <tbody>\n",
       "    <tr>\n",
       "      <th>0</th>\n",
       "      <td>1</td>\n",
       "      <td>A</td>\n",
       "      <td>8.0</td>\n",
       "    </tr>\n",
       "    <tr>\n",
       "      <th>1</th>\n",
       "      <td>1</td>\n",
       "      <td>B</td>\n",
       "      <td>9.0</td>\n",
       "    </tr>\n",
       "    <tr>\n",
       "      <th>2</th>\n",
       "      <td>1</td>\n",
       "      <td>C</td>\n",
       "      <td>7.0</td>\n",
       "    </tr>\n",
       "    <tr>\n",
       "      <th>3</th>\n",
       "      <td>2</td>\n",
       "      <td>A</td>\n",
       "      <td>7.5</td>\n",
       "    </tr>\n",
       "    <tr>\n",
       "      <th>4</th>\n",
       "      <td>2</td>\n",
       "      <td>B</td>\n",
       "      <td>8.5</td>\n",
       "    </tr>\n",
       "    <tr>\n",
       "      <th>5</th>\n",
       "      <td>2</td>\n",
       "      <td>C</td>\n",
       "      <td>7.0</td>\n",
       "    </tr>\n",
       "    <tr>\n",
       "      <th>6</th>\n",
       "      <td>3</td>\n",
       "      <td>A</td>\n",
       "      <td>6.0</td>\n",
       "    </tr>\n",
       "    <tr>\n",
       "      <th>7</th>\n",
       "      <td>3</td>\n",
       "      <td>B</td>\n",
       "      <td>7.0</td>\n",
       "    </tr>\n",
       "    <tr>\n",
       "      <th>8</th>\n",
       "      <td>3</td>\n",
       "      <td>C</td>\n",
       "      <td>8.0</td>\n",
       "    </tr>\n",
       "    <tr>\n",
       "      <th>9</th>\n",
       "      <td>4</td>\n",
       "      <td>A</td>\n",
       "      <td>7.0</td>\n",
       "    </tr>\n",
       "    <tr>\n",
       "      <th>10</th>\n",
       "      <td>4</td>\n",
       "      <td>B</td>\n",
       "      <td>6.0</td>\n",
       "    </tr>\n",
       "    <tr>\n",
       "      <th>11</th>\n",
       "      <td>4</td>\n",
       "      <td>C</td>\n",
       "      <td>5.0</td>\n",
       "    </tr>\n",
       "  </tbody>\n",
       "</table>\n",
       "</div>"
      ],
      "text/plain": [
       "    Day Car  Score\n",
       "0     1   A    8.0\n",
       "1     1   B    9.0\n",
       "2     1   C    7.0\n",
       "3     2   A    7.5\n",
       "4     2   B    8.5\n",
       "5     2   C    7.0\n",
       "6     3   A    6.0\n",
       "7     3   B    7.0\n",
       "8     3   C    8.0\n",
       "9     4   A    7.0\n",
       "10    4   B    6.0\n",
       "11    4   C    5.0"
      ]
     },
     "execution_count": 12,
     "metadata": {},
     "output_type": "execute_result"
    }
   ],
   "source": [
    "import pandas as pd\n",
    "from scipy.stats import f_oneway\n",
    "\n",
    "# Đọc dữ liệu từ SQLite\n",
    "df = pd.read_sql_query(\"SELECT * FROM CarScores\", conn)\n",
    "df"
   ]
  },
  {
   "cell_type": "code",
   "execution_count": 13,
   "id": "5eb21e22",
   "metadata": {},
   "outputs": [
    {
     "name": "stdout",
     "output_type": "stream",
     "text": [
      "F-statistic: 0.5495\n",
      "P-value: 0.5954\n",
      "Không có sự khác biệt đáng kể giữa các mẫu xe.\n"
     ]
    }
   ],
   "source": [
    "# Dùng bảng ANOVA\n",
    "# Gom điểm theo từng mẫu xe\n",
    "scores_A = df[df['Car'] == 'A']['Score']\n",
    "scores_B = df[df['Car'] == 'B']['Score']\n",
    "scores_C = df[df['Car'] == 'C']['Score']\n",
    "\n",
    "# Kiểm định ANOVA\n",
    "f_stat, p_value = f_oneway(scores_A, scores_B, scores_C)\n",
    "\n",
    "print(f\"F-statistic: {f_stat:.4f}\")\n",
    "print(f\"P-value: {p_value:.4f}\")\n",
    "\n",
    "if p_value < 0.05:\n",
    "    print(\"Có sự khác biệt đáng kể giữa các mẫu xe.\")\n",
    "else:\n",
    "    print(\"Không có sự khác biệt đáng kể giữa các mẫu xe.\")"
   ]
  },
  {
   "cell_type": "code",
   "execution_count": 14,
   "id": "c8973a82",
   "metadata": {},
   "outputs": [
    {
     "name": "stdout",
     "output_type": "stream",
     "text": [
      "=== Kiểm định Chi² theo mẫu xe ===\n",
      "Car        A  B  C\n",
      "PhanLoai          \n",
      "Thap       1  1  1\n",
      "TrungBinh  3  1  3\n",
      "Cao        0  2  0\n",
      "p-value = 0.2730\n",
      "=> Không phụ thuộc vào mẫu xe\n",
      "\n",
      "=== Kiểm định Chi² theo ngày ===\n",
      "Day        1  2  3  4\n",
      "PhanLoai             \n",
      "Thap       0  0  1  2\n",
      "TrungBinh  2  2  2  1\n",
      "Cao        1  1  0  0\n",
      "p-value = 0.4126\n",
      "=> Không phụ thuộc vào ngày thử nghiệm\n"
     ]
    }
   ],
   "source": [
    "# Dùng kiểm định Chi-Square(χ2).\n",
    "from scipy.stats import chi2_contingency\n",
    "# Thêm cột 'PhanLoai' theo mức điểm\n",
    "df['PhanLoai'] = pd.cut(df['Score'], \n",
    "                        bins=[-float('inf'), 6, 8, float('inf')],\n",
    "                        labels=['Thap', 'TrungBinh', 'Cao'])\n",
    "\n",
    "# Bảng chéo 1: Phân loại vs Xe\n",
    "table_car = pd.crosstab(df['PhanLoai'], df['Car'])\n",
    "chi2_car, p_car, dof_car, _ = chi2_contingency(table_car)\n",
    "\n",
    "# Bảng chéo 2: Phân loại vs Ngày\n",
    "table_day = pd.crosstab(df['PhanLoai'], df['Day'])\n",
    "chi2_day, p_day, dof_day, _ = chi2_contingency(table_day)\n",
    "\n",
    "# In kết quả\n",
    "print(\"=== Kiểm định Chi² theo mẫu xe ===\")\n",
    "print(table_car)\n",
    "print(f\"p-value = {p_car:.4f}\")\n",
    "print(\"=>\", \"Phụ thuộc vào mẫu xe\" if p_car < 0.05 else \"Không phụ thuộc vào mẫu xe\")\n",
    "\n",
    "print(\"\\n=== Kiểm định Chi² theo ngày ===\")\n",
    "print(table_day)\n",
    "print(f\"p-value = {p_day:.4f}\")\n",
    "print(\"=>\", \"Phụ thuộc vào ngày thử nghiệm\" if p_day < 0.05 else \"Không phụ thuộc vào ngày thử nghiệm\")"
   ]
  },
  {
   "cell_type": "markdown",
   "id": "9822679f",
   "metadata": {},
   "source": [
    "## Câu 3"
   ]
  },
  {
   "cell_type": "code",
   "execution_count": 15,
   "id": "f3a0e522",
   "metadata": {},
   "outputs": [
    {
     "data": {
      "text/plain": [
       "<sqlite3.Cursor at 0x18fb3b12040>"
      ]
     },
     "execution_count": 15,
     "metadata": {},
     "output_type": "execute_result"
    }
   ],
   "source": [
    "# Tạo bảng flights\n",
    "cursor.execute('''CREATE TABLE IF NOT EXISTS flights (\n",
    "                flight INT,\n",
    "                carrier TEXT,\n",
    "                dep_time INT,\n",
    "                sched_dep_time INT,\n",
    "                arr_time INT,\n",
    "                origin TEXT,\n",
    "                dest TEXT\n",
    "                );\n",
    "''')"
   ]
  },
  {
   "cell_type": "code",
   "execution_count": 16,
   "id": "54b5a4ed",
   "metadata": {},
   "outputs": [],
   "source": [
    "# Dữ liệu mẫu câu 3\n",
    "data = [\n",
    "    (1545, 'AA', 830, 815, 1045, 'JFK', 'LAX'),   # 8:30 AM -> 10:45 AM\n",
    "    (1987, 'DL', 1445, 1430, 1730, 'LGA', 'ATL'), # 2:45 PM -> 5:30 PM\n",
    "    (1023, 'UA', 50, 45, 250, 'EWR', 'ORD'),      # 00:50 AM -> 2:50 AM\n",
    "    (2312, 'B6', 1123, 1100, 1345, 'JFK', 'MIA'), # 11:23 AM -> 1:45 PM\n",
    "]\n",
    "\n",
    "# Chèn dữ liệu vào bảng\n",
    "cursor.executemany('''\n",
    "INSERT INTO flights (flight, carrier, dep_time, sched_dep_time, arr_time, origin, dest) VALUES (?, ?, ?, ?, ?, ?, ?);\n",
    "''', data)\n",
    "\n",
    "conn.commit()\n"
   ]
  },
  {
   "cell_type": "code",
   "execution_count": 17,
   "id": "a5527c24",
   "metadata": {},
   "outputs": [
    {
     "name": "stdout",
     "output_type": "stream",
     "text": [
      "(1545, 'AA', 830, 815, 1045, 'JFK', 'LAX')\n",
      "(1987, 'DL', 1445, 1430, 1730, 'LGA', 'ATL')\n",
      "(1023, 'UA', 50, 45, 250, 'EWR', 'ORD')\n",
      "(2312, 'B6', 1123, 1100, 1345, 'JFK', 'MIA')\n"
     ]
    }
   ],
   "source": [
    "for row in cursor.execute(\"SELECT * FROM flights\"):\n",
    "    print(row)"
   ]
  },
  {
   "cell_type": "code",
   "execution_count": 18,
   "id": "4a1c95d3",
   "metadata": {},
   "outputs": [
    {
     "name": "stdout",
     "output_type": "stream",
     "text": [
      " Flight 1545 (AA): JFK ➡ LAX\n",
      "  - Actual Departure   : 08:30\n",
      "  - Scheduled Departure: 08:15\n",
      "  - Arrival Time       : 10:45\n",
      "\n",
      " Flight 1987 (DL): LGA ➡ ATL\n",
      "  - Actual Departure   : 14:45\n",
      "  - Scheduled Departure: 14:30\n",
      "  - Arrival Time       : 17:30\n",
      "\n",
      " Flight 1023 (UA): EWR ➡ ORD\n",
      "  - Actual Departure   : 00:50\n",
      "  - Scheduled Departure: 00:45\n",
      "  - Arrival Time       : 02:50\n",
      "\n",
      " Flight 2312 (B6): JFK ➡ MIA\n",
      "  - Actual Departure   : 11:23\n",
      "  - Scheduled Departure: 11:00\n",
      "  - Arrival Time       : 13:45\n",
      "\n"
     ]
    }
   ],
   "source": [
    "cursor.execute('''\n",
    "SELECT \n",
    "    flight,\n",
    "    carrier,\n",
    "    origin,\n",
    "    dest,\n",
    "    \n",
    "    printf('%02d:%02d', CAST(dep_time / 100 AS INTEGER), dep_time % 100) AS dep_time,\n",
    "    printf('%02d:%02d', CAST(sched_dep_time / 100 AS INTEGER), sched_dep_time % 100) AS sched_dep_time,\n",
    "    printf('%02d:%02d', CAST(arr_time / 100 AS INTEGER), arr_time % 100) AS arr_time\n",
    "\n",
    "FROM flights;\n",
    "''')\n",
    "\n",
    "for row in cursor.fetchall():\n",
    "    print(f\" Flight {row[0]} ({row[1]}): {row[2]} ➡ {row[3]}\")\n",
    "    print(f\"  - Actual Departure   : {row[4]}\")\n",
    "    print(f\"  - Scheduled Departure: {row[5]}\")\n",
    "    print(f\"  - Arrival Time       : {row[6]}\\n\")\n"
   ]
  },
  {
   "cell_type": "markdown",
   "id": "1b31c534",
   "metadata": {},
   "source": [
    "## Câu 4"
   ]
  },
  {
   "cell_type": "code",
   "execution_count": 19,
   "id": "06b70ae7",
   "metadata": {},
   "outputs": [
    {
     "data": {
      "text/plain": [
       "<sqlite3.Cursor at 0x18fb3b12040>"
      ]
     },
     "execution_count": 19,
     "metadata": {},
     "output_type": "execute_result"
    }
   ],
   "source": [
    "cursor.execute('''\n",
    "CREATE TABLE IF NOT EXISTS cau4 (\n",
    "    id INT PRIMARY KEY,\n",
    "    value REAL\n",
    ")\n",
    "''')"
   ]
  },
  {
   "cell_type": "code",
   "execution_count": 20,
   "id": "076061ed",
   "metadata": {},
   "outputs": [],
   "source": [
    "# Chèn dữ liệu mẫu\n",
    "sample_data = [\n",
    "    (1, 1), \n",
    "    (2, 19), \n",
    "    (3, 11), \n",
    "    (4, 120), \n",
    "    (5, 15),\n",
    "    (6, 25), \n",
    "    (7, 22), \n",
    "    (8, 100),  \n",
    "    (9, 30), \n",
    "    (10, 99)\n",
    "]\n",
    "\n",
    "cursor.executemany(\"INSERT INTO cau4 (id, value) VALUES (?, ?)\", sample_data)\n",
    "conn.commit()"
   ]
  },
  {
   "cell_type": "code",
   "execution_count": 21,
   "id": "d06b66c4",
   "metadata": {},
   "outputs": [
    {
     "name": "stdout",
     "output_type": "stream",
     "text": [
      "(1, 1.0)\n",
      "(2, 19.0)\n",
      "(3, 11.0)\n",
      "(4, 120.0)\n",
      "(5, 15.0)\n",
      "(6, 25.0)\n",
      "(7, 22.0)\n",
      "(8, 100.0)\n",
      "(9, 30.0)\n",
      "(10, 99.0)\n"
     ]
    }
   ],
   "source": [
    "for row in cursor.execute(\"SELECT * FROM cau4\"):\n",
    "    print(row)"
   ]
  },
  {
   "cell_type": "code",
   "execution_count": 22,
   "id": "d8b637bf",
   "metadata": {},
   "outputs": [
    {
     "name": "stdout",
     "output_type": "stream",
     "text": [
      "Median = 23.5\n",
      "MAD = 10.5\n",
      "Ngưỡng ngoại lệ (1.5×MAD): ±15.75\n",
      "Giá trị ngoại lệ: [1.0, 99.0, 100.0, 120.0]\n"
     ]
    }
   ],
   "source": [
    "# Tính median\n",
    "cursor.execute(\"\"\"\n",
    "SELECT value FROM cau4 ORDER BY value\n",
    "\"\"\")\n",
    "vals = [row[0] for row in cursor.fetchall()]\n",
    "n = len(vals)\n",
    "median = (vals[n // 2] if n % 2 == 1 else (vals[n // 2 - 1] + vals[n // 2]) / 2)\n",
    "\n",
    "# Tính |xi - median|\n",
    "abs_devs = [abs(v - median) for v in vals]\n",
    "abs_devs.sort()\n",
    "mad = (abs_devs[n // 2] if n % 2 == 1 else (abs_devs[n // 2 - 1] + abs_devs[n // 2]) / 2)\n",
    "\n",
    "# Chọn các giá trị là ngoại lệ (vượt 1.5 × MAD)\n",
    "threshold = 1.5 * mad\n",
    "outliers = [v for v in vals if abs(v - median) > threshold]\n",
    "\n",
    "# Xuất kết quả\n",
    "print(f\"Median = {median}\")\n",
    "print(f\"MAD = {mad}\")\n",
    "print(f\"Ngưỡng ngoại lệ (1.5×MAD): ±{threshold}\")\n",
    "print(\"Giá trị ngoại lệ:\", outliers)"
   ]
  },
  {
   "cell_type": "markdown",
   "id": "15557162",
   "metadata": {},
   "source": [
    "> Giá trị thứ 1, 4, 8, 10 vượt ngưỡng, là những giá trị ngoại lệ"
   ]
  },
  {
   "cell_type": "markdown",
   "id": "35955e73",
   "metadata": {},
   "source": [
    "## Câu 5"
   ]
  },
  {
   "cell_type": "code",
   "execution_count": 25,
   "id": "f6a512a4",
   "metadata": {},
   "outputs": [
    {
     "data": {
      "text/plain": [
       "<sqlite3.Cursor at 0x18fb3b12040>"
      ]
     },
     "execution_count": 25,
     "metadata": {},
     "output_type": "execute_result"
    }
   ],
   "source": [
    "# Tạo bảng Patient\n",
    "cursor.execute(\"DROP TABLE IF EXISTS Patient\")\n",
    "cursor.execute('''CREATE TABLE Patient (\n",
    "                id INTEGER PRIMARY KEY AUTOINCREMENT,\n",
    "                last_name TEXT,\n",
    "                weight REAL,\n",
    "                height REAL\n",
    "                );\n",
    "''')"
   ]
  },
  {
   "cell_type": "code",
   "execution_count": null,
   "id": "503a9c4c",
   "metadata": {},
   "outputs": [
    {
     "data": {
      "text/plain": [
       "<function Connection.commit()>"
      ]
     },
     "execution_count": 34,
     "metadata": {},
     "output_type": "execute_result"
    }
   ],
   "source": [
    "# cursor.execute(\"Delete from Patient\")\n",
    "# conn.commit"
   ]
  },
  {
   "cell_type": "code",
   "execution_count": 26,
   "id": "1f4eb8b7",
   "metadata": {},
   "outputs": [],
   "source": [
    "# Thêm dữ liệu mẫu\n",
    "data = [\n",
    "    ('Nghiem', 60, 175),\n",
    "    ('Nghiem', 60, 176),   # có thể là người trên\n",
    "    ('Tuan', 69, 185),\n",
    "    ('Tuan', 72, 185),\n",
    "    ('Vu', 85, 190),\n",
    "    ('Vu', 85, 190)        # trùng hoàn toàn\n",
    "]\n",
    "\n",
    "cursor.executemany(\"INSERT INTO Patient (last_name, weight, height) VALUES (?, ?, ?)\", data)\n",
    "conn.commit()"
   ]
  },
  {
   "cell_type": "code",
   "execution_count": 27,
   "id": "ac75784b",
   "metadata": {},
   "outputs": [
    {
     "name": "stdout",
     "output_type": "stream",
     "text": [
      "(1, 'Nghiem', 60.0, 175.0)\n",
      "(2, 'Nghiem', 60.0, 176.0)\n",
      "(3, 'Tuan', 69.0, 185.0)\n",
      "(4, 'Tuan', 72.0, 185.0)\n",
      "(5, 'Vu', 85.0, 190.0)\n",
      "(6, 'Vu', 85.0, 190.0)\n"
     ]
    }
   ],
   "source": [
    "for row in cursor.execute(\"SELECT * FROM Patient\"):\n",
    "    print(row)"
   ]
  },
  {
   "cell_type": "code",
   "execution_count": 31,
   "id": "bba06bc1",
   "metadata": {},
   "outputs": [
    {
     "name": "stdout",
     "output_type": "stream",
     "text": [
      "\n",
      "Kết quả so sánh:\n",
      "ID 1 & ID 2 | Last name: YES | Weight: YES | Result: Có thể là cùng người\n",
      "ID 1 & ID 3 | Last name: NO | Weight: NO | Result: Khác người\n",
      "ID 1 & ID 4 | Last name: NO | Weight: NO | Result: Khác người\n",
      "ID 1 & ID 5 | Last name: NO | Weight: NO | Result: Khác người\n",
      "ID 1 & ID 6 | Last name: NO | Weight: NO | Result: Khác người\n",
      "ID 2 & ID 3 | Last name: NO | Weight: NO | Result: Khác người\n",
      "ID 2 & ID 4 | Last name: NO | Weight: NO | Result: Khác người\n",
      "ID 2 & ID 5 | Last name: NO | Weight: NO | Result: Khác người\n",
      "ID 2 & ID 6 | Last name: NO | Weight: NO | Result: Khác người\n",
      "ID 3 & ID 4 | Last name: YES | Weight: NO | Result: Khác người\n",
      "ID 3 & ID 5 | Last name: NO | Weight: NO | Result: Khác người\n",
      "ID 3 & ID 6 | Last name: NO | Weight: NO | Result: Khác người\n",
      "ID 4 & ID 5 | Last name: NO | Weight: NO | Result: Khác người\n",
      "ID 4 & ID 6 | Last name: NO | Weight: NO | Result: Khác người\n",
      "ID 5 & ID 6 | Last name: YES | Weight: YES | Result: Có thể là cùng người\n"
     ]
    }
   ],
   "source": [
    "# Truy vấn so sánh Boolean\n",
    "print(\"\\nKết quả so sánh:\")\n",
    "cursor.execute(\"\"\"\n",
    "SELECT \n",
    "    p1.id AS id1,\n",
    "    p2.id AS id2,\n",
    "    CASE WHEN p1.last_name = p2.last_name THEN 'YES' ELSE 'NO' END AS same_last_name,\n",
    "    CASE WHEN p1.weight = p2.weight THEN 'YES' ELSE 'NO' END AS same_weight,\n",
    "    CASE \n",
    "        WHEN p1.last_name = p2.last_name AND p1.weight = p2.weight THEN 'Có thể là cùng người'\n",
    "        ELSE 'Khác người'\n",
    "    END AS result\n",
    "FROM Patient p1\n",
    "JOIN Patient p2 ON p1.id < p2.id\n",
    "\"\"\")\n",
    "\n",
    "# In kết quả rõ ràng\n",
    "for row in cursor.fetchall():\n",
    "    print(f\"ID {row[0]} & ID {row[1]} | Last name: {row[2]} | Weight: {row[3]} | Result: {row[4]}\")"
   ]
  },
  {
   "cell_type": "markdown",
   "id": "135c1930",
   "metadata": {},
   "source": [
    "> Vậy nếu so sánh dựa trên 2 yếu tố *\"last_name\"* và *\"weight\"* thì ta có:\n",
    "cặp giữa **1 & 2**,  **5 & 6**  có thể là cùng 1 người"
   ]
  }
 ],
 "metadata": {
  "kernelspec": {
   "display_name": "Python 3",
   "language": "python",
   "name": "python3"
  },
  "language_info": {
   "codemirror_mode": {
    "name": "ipython",
    "version": 3
   },
   "file_extension": ".py",
   "mimetype": "text/x-python",
   "name": "python",
   "nbconvert_exporter": "python",
   "pygments_lexer": "ipython3",
   "version": "3.11.5"
  }
 },
 "nbformat": 4,
 "nbformat_minor": 5
}
